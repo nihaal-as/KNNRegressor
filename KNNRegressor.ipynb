{
 "cells": [
  {
   "cell_type": "markdown",
   "id": "7c0f618e",
   "metadata": {},
   "source": [
    "# FIT5201 Machine Learning Assignment 1 \n",
    "\n",
    "## Question 1\n",
    "\n",
    "### Name : Nihaal Ahmed Shibly\n",
    "### Student ID : 34080864\n"
   ]
  },
  {
   "cell_type": "markdown",
   "id": "20e4d018",
   "metadata": {},
   "source": [
    "## KNN Regressor Implementation"
   ]
  },
  {
   "cell_type": "code",
   "execution_count": 160,
   "id": "45164ade",
   "metadata": {},
   "outputs": [],
   "source": [
    "#importing necessary libraries\n",
    "\n",
    "from sklearn.base import BaseEstimator\n",
    "from sklearn.neighbors import KDTree\n",
    "import numpy as np\n",
    "from sklearn.model_selection import train_test_split\n",
    "from sklearn.metrics import make_scorer, mean_squared_error\n",
    "from sklearn.model_selection import cross_validate\n",
    "from matplotlib import pyplot as plt"
   ]
  },
  {
   "cell_type": "code",
   "execution_count": 161,
   "id": "73e0e555",
   "metadata": {},
   "outputs": [],
   "source": [
    "class KnnRegressor(BaseEstimator):\n",
    "    \n",
    "    #Class initialistion\n",
    "    def __init__(self,k): \n",
    "        self.k = k\n",
    "    \n",
    "    def fit(self, x, y):\n",
    "        self.y_train_ = y\n",
    "        self.x_train_kdtree_ = KDTree(x)\n",
    "        return self\n",
    "\n",
    "    \n",
    "    def predict(self, x):\n",
    "    # Find the k nearest neighbors for each input sample in x\n",
    "    _, neighbours = self.x_train_kdtree_.query(x, k=self.k)\n",
    "    \n",
    "    # Reshape to ensure correct alignment with the input samples\n",
    "    neighbours = neighbours.reshape(len(x), self.k)\n",
    "    neighbour_labels = self.y_train_[neighbours]\n",
    "    \n",
    "    # Compute the mean of the neighbor labels as predictions\n",
    "    mean = np.mean(neighbour_labels, axis=1, keepdims=False)\n",
    "\n",
    "    return mean"
   ]
  },
  {
   "cell_type": "code",
   "execution_count": 162,
   "id": "e9f4c7e0",
   "metadata": {},
   "outputs": [
    {
     "data": {
      "text/plain": [
       "((442, 10),\n",
       " (442,),\n",
       " ['age', 'sex', 'bmi', 'bp', 's1', 's2', 's3', 's4', 's5', 's6'])"
      ]
     },
     "execution_count": 162,
     "metadata": {},
     "output_type": "execute_result"
    }
   ],
   "source": [
    "from sklearn.datasets import load_diabetes\n",
    "\n",
    "#Loading the diabates dataset from the scikit learn library and printing features\n",
    "\n",
    "diabetes = load_diabetes()\n",
    "diabetes.data.shape, diabetes.target.shape, diabetes.feature_names"
   ]
  },
  {
   "cell_type": "code",
   "execution_count": 163,
   "id": "69fbaf34",
   "metadata": {
    "scrolled": true
   },
   "outputs": [
    {
     "data": {
      "text/plain": [
       "array([[ 0.03807591,  0.05068012,  0.06169621,  0.02187239, -0.0442235 ,\n",
       "        -0.03482076, -0.04340085, -0.00259226,  0.01990749, -0.01764613],\n",
       "       [-0.00188202, -0.04464164, -0.05147406, -0.02632753, -0.00844872,\n",
       "        -0.01916334,  0.07441156, -0.03949338, -0.06833155, -0.09220405],\n",
       "       [ 0.08529891,  0.05068012,  0.04445121, -0.00567042, -0.04559945,\n",
       "        -0.03419447, -0.03235593, -0.00259226,  0.00286131, -0.02593034],\n",
       "       [-0.08906294, -0.04464164, -0.01159501, -0.03665608,  0.01219057,\n",
       "         0.02499059, -0.03603757,  0.03430886,  0.02268774, -0.00936191],\n",
       "       [ 0.00538306, -0.04464164, -0.03638469,  0.02187239,  0.00393485,\n",
       "         0.01559614,  0.00814208, -0.00259226, -0.03198764, -0.04664087],\n",
       "       [-0.09269548, -0.04464164, -0.04069594, -0.01944183, -0.06899065,\n",
       "        -0.07928784,  0.04127682, -0.0763945 , -0.04117617, -0.09634616],\n",
       "       [-0.04547248,  0.05068012, -0.04716281, -0.01599898, -0.04009564,\n",
       "        -0.02480001,  0.00077881, -0.03949338, -0.06291688, -0.03835666],\n",
       "       [ 0.06350368,  0.05068012, -0.00189471,  0.06662945,  0.09061988,\n",
       "         0.10891438,  0.02286863,  0.01770335, -0.03581619,  0.00306441],\n",
       "       [ 0.04170844,  0.05068012,  0.06169621, -0.04009893, -0.01395254,\n",
       "         0.00620169, -0.02867429, -0.00259226, -0.01495969,  0.01134862],\n",
       "       [-0.07090025, -0.04464164,  0.03906215, -0.03321323, -0.01257658,\n",
       "        -0.03450761, -0.02499266, -0.00259226,  0.06773705, -0.01350402]])"
      ]
     },
     "execution_count": 163,
     "metadata": {},
     "output_type": "execute_result"
    }
   ],
   "source": [
    "#head of the diabetes data \n",
    "diabetes.data[:10]"
   ]
  },
  {
   "cell_type": "code",
   "execution_count": 164,
   "id": "2a5bcaf1",
   "metadata": {},
   "outputs": [],
   "source": [
    "#creating training and test data, using random_state = 1 \n",
    "\n",
    "x_train, x_test, y_train, y_test = train_test_split(diabetes.data, diabetes.target, train_size=0.7, random_state=1)"
   ]
  },
  {
   "cell_type": "code",
   "execution_count": 165,
   "id": "4ebfb98c",
   "metadata": {},
   "outputs": [],
   "source": [
    "#Arbitrarily using K = 3 as the target variable in the dataset seeks to study quantitatively the disease \n",
    "#progression from the baseline after one year. This could low, medium or high progression. \n",
    "\n",
    "knn = KnnRegressor(k=3)\n",
    "knn.fit(x_train, y_train)\n",
    "\n",
    "predicted_test = knn.predict(x_test)\n",
    "predicted_train = knn.predict(x_train)\n",
    "\n"
   ]
  },
  {
   "cell_type": "code",
   "execution_count": 184,
   "id": "37a3d3ba",
   "metadata": {},
   "outputs": [],
   "source": [
    "#Defining mean squared error as the parameter to calculate the error in the model\n",
    "\n",
    "def mse(y, y_hat):\n",
    "    n = len(y)\n",
    "    mse = np.mean((y - y_hat) ** 2)    \n",
    "    return mse"
   ]
  },
  {
   "cell_type": "code",
   "execution_count": 185,
   "id": "fd2a6374",
   "metadata": {},
   "outputs": [
    {
     "name": "stdout",
     "output_type": "stream",
     "text": [
      "The train error is 2183.884573894283 and the Test error is 3665.8404344193814\n"
     ]
    }
   ],
   "source": [
    "print(f\"The train error is {mse(y_train, predicted_train)} and the Test error is {mse(y_test, predicted_test)}\")"
   ]
  },
  {
   "cell_type": "markdown",
   "id": "97b816ad",
   "metadata": {},
   "source": [
    "## L Fold Cross Validation Implementation\n"
   ]
  },
  {
   "cell_type": "code",
   "execution_count": 186,
   "id": "776653a9",
   "metadata": {},
   "outputs": [],
   "source": [
    "class LFold:\n",
    "    \n",
    "    #Class initialisation\n",
    "    \n",
    "    def __init__(self,n_split=5, random_state = 1): \n",
    "        self.n_split = n_split\n",
    "        self.RNG = np.random.default_rng(random_state)\n",
    "        \n",
    "    #No of splits\n",
    "    \n",
    "    def get_n_splits(self, x=None, y=None, groups=None):\n",
    "        \n",
    "        return self.n_split\n",
    "    \n",
    "    #Splitting the data and saving the indices to test_idx and train_idx \n",
    "    \n",
    "    def split(self, x=None, y=None, groups=None):\n",
    "           \n",
    "        size_each_fold = len(x)//self.n_split\n",
    "            \n",
    "        indices = np.arange(len(x))\n",
    "            \n",
    "        for i in range(self.n_split):\n",
    "            \n",
    "            #For i = 0 and len(x) = 102, l=5, start_test = 0, end_test = 20, test_idx = [0:20],[20:]\n",
    "            #For i = 3 and len(x) = 102, l=5, start_test = 60, end_test = 80, test_idx = [0:20],[20:]\n",
    "            #For i = 4 and len(x) = 102, l=5, start_test = 80, end_test = 80, test_idx = [0:20],[20:]\n",
    "            \n",
    "            start_test = i * size_each_fold\n",
    "            \n",
    "            #towards the end of the data, the test dataset would have lesser number of data based on the remainder\n",
    "            #  size_each_fold\n",
    "            \n",
    "            end_test = (i + 1) * size_each_fold if i < self.n_split - 1 else len(x)\n",
    "            \n",
    "            test_idx = indices[start_test:end_test]\n",
    "            train_idx = np.concatenate([indices[:start_test], indices[end_test:]])\n",
    "            yield train_idx, test_idx"
   ]
  },
  {
   "cell_type": "code",
   "execution_count": 187,
   "id": "b1cf7de8",
   "metadata": {},
   "outputs": [
    {
     "name": "stdout",
     "output_type": "stream",
     "text": [
      "[ 4  5  6  7  8  9 10 11 12 13 14 15 16 17 18 19] [0 1 2 3]\n",
      "[ 0  1  2  3  8  9 10 11 12 13 14 15 16 17 18 19] [4 5 6 7]\n",
      "[ 0  1  2  3  4  5  6  7 12 13 14 15 16 17 18 19] [ 8  9 10 11]\n",
      "[ 0  1  2  3  4  5  6  7  8  9 10 11 16 17 18 19] [12 13 14 15]\n",
      "[ 0  1  2  3  4  5  6  7  8  9 10 11 12 13 14 15] [16 17 18 19]\n"
     ]
    }
   ],
   "source": [
    "for idx_train, idx_test in LFold(5).split(list(range(20))):\n",
    "    print(idx_train, idx_test)"
   ]
  },
  {
   "cell_type": "code",
   "execution_count": 188,
   "id": "d9aaeda2",
   "metadata": {},
   "outputs": [],
   "source": [
    "def evaluation(max_k, cv):\n",
    "    \n",
    "    mse_scorer = make_scorer(mean_squared_error, squared=True)\n",
    "    reps = cv.get_n_splits()\n",
    "    \n",
    "    test_results = np.zeros(shape=(reps, max_k))\n",
    "    train_results = np.zeros(shape=(reps, max_k))\n",
    "    \n",
    "    for k in range(1, max_k+1):\n",
    "        knn = KnnRegressor(k)\n",
    "        \n",
    "        #Cross_validation is a dictionary that contains values like cross_val_score, train_score, test_score etc\n",
    "        cross_validation = cross_validate(knn, diabetes.data, diabetes.target, cv = cv, return_train_score=True, scoring=mse_scorer)\n",
    "        \n",
    "        #The test and train score is assigned to the column corresponding to the index of the k \n",
    "        test_results[:, k-1] = cross_validation['test_score']\n",
    "        train_results[:, k-1] = cross_validation['train_score']\n",
    "        \n",
    "    return train_results, test_results\n",
    "    \n",
    "\n",
    "\n",
    "reps=5\n",
    "max_k=30\n",
    "\n",
    "train_results, test_results = evaluation(max_k, cv=LFold(reps, random_state=0))\n",
    "\n"
   ]
  },
  {
   "cell_type": "code",
   "execution_count": 191,
   "id": "0b052422",
   "metadata": {},
   "outputs": [
    {
     "name": "stdout",
     "output_type": "stream",
     "text": [
      "The value of K with the best test performance. ie: lowest average mean sqaured error is 16\n",
      "The value of Mean of the mean squared error is 3178.913676807134\n",
      "The value of Standard Deviation of the mean squared error is 224.66202555189966\n"
     ]
    },
    {
     "data": {
      "image/png": "[encoded data removed]",
      "text/plain": [
       "<Figure size 800x400 with 1 Axes>"
      ]
     },
     "metadata": {},
     "output_type": "display_data"
    }
   ],
   "source": [
    "train_mean = np.mean(train_results, axis=0)\n",
    "train_std = np.std(train_results, axis=0)\n",
    "\n",
    "# Calculate mean and standard deviation for test results\n",
    "test_mean = np.mean(test_results, axis=0)\n",
    "test_std = np.std(test_results, axis=0)\n",
    "    \n",
    "best_k_index = np.argmin(test_mean)\n",
    "best_k_mean = test_mean[best_k_index]\n",
    "best_k_std = test_std[best_k_index]\n",
    "\n",
    "# The best k value\n",
    "best_k = best_k_index + 1 \n",
    "\n",
    "#Calucalting the standard error of the mean - confidence interval on either side.\n",
    "\n",
    "confidence_interval_train = 1.96*(train_std)/(np.sqrt(reps))\n",
    "confidence_interval_test = 1.96*(test_std)/(np.sqrt(reps))\n",
    "\n",
    "#Numpy array containing the list of possible k's\n",
    "\n",
    "ks = np.arange(1, max_k+1)\n",
    "_, axs = plt.subplots(1, figsize=(8,4), tight_layout=True, sharey=True)\n",
    "\n",
    "axs.errorbar(ks, train_mean, yerr=confidence_interval_train, marker='o', label='train')\n",
    "axs.errorbar(ks, test_mean, yerr=confidence_interval_test, marker='o', label='test')\n",
    "axs.legend()\n",
    "axs.set_xlabel('$k$')\n",
    "axs.set_ylabel('error rate')\n",
    "\n",
    "\n",
    "print(\"The value of K with the best test performance. ie: lowest average mean sqaured error is\", best_k)\n",
    "print(\"The value of Mean of the mean squared error is\", best_k_mean)\n",
    "print(\"The value of Standard Deviation of the mean squared error is\", best_k_std)\n"
   ]
  },
  {
   "cell_type": "markdown",
   "id": "a8fd71ac",
   "metadata": {},
   "source": [
    "## Automatic Model Selection"
   ]
  },
  {
   "cell_type": "code",
   "execution_count": 197,
   "id": "c1fc4041",
   "metadata": {},
   "outputs": [],
   "source": [
    "from sklearn.base import BaseEstimator\n",
    "\n",
    "\n",
    "class KnnRegressorCV(BaseEstimator):\n",
    "    \n",
    "    #Class initialisation, ks is the list of possible k values for the KNN Regressor, while cv creates a \n",
    "    # cross validation with 5 folds.\n",
    "    \n",
    "    def __init__(self, ks=list(range(1, 21)), cv=LFold(5)):\n",
    "        \n",
    "        self.ks = ks \n",
    "        self.cv = cv\n",
    "\n",
    "    def fit(self, x, y):\n",
    "        \n",
    "        #initialising train_results and test_results arrays\n",
    "        \n",
    "        train_results = np.zeros((self.cv.get_n_splits(), len(self.ks)))\n",
    "        test_results = np.zeros((self.cv.get_n_splits(), len(self.ks)))\n",
    "        \n",
    "        \n",
    "        for k in self.ks:\n",
    "            knn = KnnRegressor(k=k)\n",
    "            cross_validation = cross_validate(knn, x, y, cv = self.cv,return_train_score=True, \n",
    "                                              scoring= make_scorer(mean_squared_error, squared=True))\n",
    "            #Assigning the test results from crossvaliadtion to the corresponding index of the k value.\n",
    "            test_results[:, k-1] = cross_validation['test_score']\n",
    "            train_results[:, k-1] = cross_validation['train_score']\n",
    "            \n",
    "        train_mean = np.mean(train_results, axis=0)\n",
    "        test_mean = np.mean(test_results, axis=0)\n",
    "        #best k value based on the lest test mean\n",
    "        self.best_k = np.argmin(test_mean) + 1\n",
    "        print(\"The best value of k for the given dataset based on the training error is \",self.best_k)\n",
    "        \n",
    "        self.best_knn = KnnRegressor(k=self.best_k)\n",
    "        self.best_knn.fit(x,y)\n",
    "        return self\n",
    "        \n",
    "\n",
    "\n",
    "    def predict(self, x):\n",
    "        return self.best_knn.predict(x)\n",
    "    \n"
   ]
  },
  {
   "cell_type": "code",
   "execution_count": 198,
   "id": "3e8a72d6",
   "metadata": {},
   "outputs": [
    {
     "name": "stdout",
     "output_type": "stream",
     "text": [
      "The best value of k for the given dataset based on the training error is  16\n"
     ]
    }
   ],
   "source": [
    "knn = KnnRegressorCV(ks=list(range(1,30)),cv=LFold(5))\n",
    "knn.fit(diabetes.data, diabetes.target)\n",
    "\n",
    "predicted = knn.predict(diabetes.data)\n"
   ]
  },
  {
   "cell_type": "code",
   "execution_count": 215,
   "id": "6ea36cf0",
   "metadata": {},
   "outputs": [
    {
     "name": "stdout",
     "output_type": "stream",
     "text": [
      "The best value of k for the given dataset based on the training error is  16\n"
     ]
    }
   ],
   "source": [
    "#Internal cross validation based on an outer test - This is achived by creating training and test sets based on\n",
    "# train_test_split and using just x_train for the cross validation. \n",
    "\n",
    "#The value of k changes in each iteration as random_state = None, varying training and test datasets for each split\n",
    "\n",
    "x_train, x_test, y_train, y_test = train_test_split(diabetes.data, diabetes.target, train_size=0.7, random_state=None)\n",
    "\n",
    "knn = KnnRegressorCV(ks=list(range(1,30)),cv=LFold(5))\n",
    "knn.fit(x_train, y_train)\n",
    "\n",
    "predicted_test = knn.predict(x_test)\n",
    "\n"
   ]
  },
  {
   "cell_type": "markdown",
   "id": "8916ba9b",
   "metadata": {},
   "source": [
    "#### Factors that determine whether the internal cross-validation procedure is successful in approximately selecting the best model \n",
    "\n",
    "1. If the data is split in a way that each fold within the train set is representative of the entire dataset, the internal crosss validation procedure would be succesful in closely sleected the best model. This can be acheived through stratification during sampling  \n",
    "\n",
    "2. Amount of data available. If the dataset is originally small, performing an inner cross validation could reduce the amount of data available for each fold, and the model not being able to learn the associations between the data.   \n",
    "\n"
   ]
  }
 ],
 "metadata": {
  "kernelspec": {
   "display_name": "Python 3 (ipykernel)",
   "language": "python",
   "name": "python3"
  },
  "language_info": {
   "codemirror_mode": {
    "name": "ipython",
    "version": 3
   },
   "file_extension": ".py",
   "mimetype": "text/x-python",
   "name": "python",
   "nbconvert_exporter": "python",
   "pygments_lexer": "ipython3",
   "version": "3.11.5"
  }
 },
 "nbformat": 4,
 "nbformat_minor": 5
}
